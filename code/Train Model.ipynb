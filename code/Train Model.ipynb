{
 "cells": [
  {
   "cell_type": "code",
   "execution_count": 1,
   "metadata": {
    "collapsed": true
   },
   "outputs": [],
   "source": [
    "import math\n",
    "import numpy as np\n",
    "import pandas as pd\n",
    "import numpy as np\n",
    "import matplotlib.pyplot as plt\n",
    "from sklearn.linear_model import LinearRegression\n",
    "from sklearn.model_selection import train_test_split\n",
    "from sklearn.metrics import mean_squared_error\n",
    "from sklearn import metrics\n",
    "\n",
    "# Display plots in the notebook\n",
    "%matplotlib inline\n",
    "\n",
    "# Plotting parameters \n",
    "plt.rcParams['figure.figsize'] = (10, 7)\n",
    "plt.rcParams['font.size'] = 12"
   ]
  },
  {
   "cell_type": "code",
   "execution_count": 2,
   "metadata": {
    "collapsed": false
   },
   "outputs": [],
   "source": [
    "# load files\n",
    "fileL1 = 'http://localhost:8888/tree/data/L1_87-108mhz.csv'\n",
    "fileL2 = 'http://localhost:8888/tree/data/L2_87-108mhz.csv'\n",
    "fileL3 = 'http://localhost:8888/tree/data/L3_87-108mhz.csv'\n",
    "fileL4 = 'http://localhost:8888/tree/data/L4_87-108mhz.csv'\n",
    "fileL5 = 'http://localhost:8888/tree/data/L5_87-108mhz.csv'\n",
    "\n",
    "# column names\n",
    "col_names = ['ReceptionStart',\n",
    "             'ReceptionEnd', 'Frequency', 'Center', 'Description', \n",
    "             'Notes', 'Protocol', 'Service', 'Callsign', 'ShiftEnabled', \n",
    "             'Shift', 'FilterType', 'FilterBandwidth', 'SquelchEnabled',\n",
    "             'Squelch', 'CWShift', 'TimeoutSeconds', 'MinSignalStrength', \n",
    "             'ActualSignalStrength', 'Remarks']\n",
    "\n",
    "# unwanted columns \n",
    "drop_cols = ['ReceptionStart','ReceptionEnd', 'Center', 'Description', 'Notes', 'Protocol', 'Service', \n",
    "         'Callsign', 'ShiftEnabled', 'Shift', 'FilterType', 'FilterBandwidth', 'SquelchEnabled',\n",
    "         'Squelch', 'CWShift', 'TimeoutSeconds', 'MinSignalStrength', 'Remarks']\n",
    "\n",
    "# function to format data\n",
    "def formatdf(file, headers, unwanted_col, coordinates):\n",
    "    rf = pd.read_csv(file, header=0, names=headers, na_filter=False)\n",
    "    rf = rf.drop(unwanted_col,1)\n",
    "    rf['Lat'] = coordinates[0]\n",
    "    rf['Lon'] = coordinates[1]\n",
    "    rf['Frequency'] = rf['Frequency'] * 0.000001\n",
    "    return rf\n",
    "\n",
    "df1 = formatdf(fileL1, col_names, drop_cols, [1.423272, 103.844975])\n",
    "df2 = formatdf(fileL2, col_names, drop_cols, [1.359603, 103.843286])\n",
    "df3 = formatdf(fileL3, col_names, drop_cols, [1.385351, 103.745053])\n",
    "df4 = formatdf(fileL4, col_names, drop_cols, [1.350483, 103.872321])\n",
    "df5 = formatdf(fileL5, col_names, drop_cols, [1.371094, 103.949197])"
   ]
  },
  {
   "cell_type": "code",
   "execution_count": 3,
   "metadata": {
    "collapsed": false
   },
   "outputs": [],
   "source": [
    "# load data on radio stations\n",
    "f = 'http://localhost:8888/tree/data/RadioStations.xlsx'\n",
    "RadioStations = pd.read_excel(f)\n",
    "\n",
    "# drop unwanted columns \n",
    "drop_cols = ['p', 'm', 'RDS-PS', 'RDS-PI', 'program', \n",
    "         'power', 'dB']\n",
    "\n",
    "RS = RadioStations.drop(drop_cols, 1).sort_values(['MHz']).reset_index()\n",
    "RS = RS.drop('index', 1)"
   ]
  },
  {
   "cell_type": "code",
   "execution_count": 4,
   "metadata": {
    "collapsed": false
   },
   "outputs": [],
   "source": [
    "# assign respective transmitter distances to the data frame\n",
    "dflist = [df1, df2, df3, df4, df5]\n",
    "RSloclist = ['L1', 'L2', 'L3', 'L4', 'L5']\n",
    "\n",
    "for df, RSloc in zip(dflist, RSloclist):\n",
    "    for idx, f in df['Frequency'].iteritems():\n",
    "        for i, mhz in RS['MHz'].iteritems():\n",
    "            if np.round(f,1) == np.round(mhz, 1):\n",
    "                df.loc[idx,'TransmitterDistance'] = RS.loc[i, RSloc]\n",
    "            else:\n",
    "                pass"
   ]
  },
  {
   "cell_type": "code",
   "execution_count": 5,
   "metadata": {
    "collapsed": false
   },
   "outputs": [
    {
     "data": {
      "text/plain": [
       "<matplotlib.legend.Legend at 0x8e8ad50>"
      ]
     },
     "execution_count": 5,
     "metadata": {},
     "output_type": "execute_result"
    },
    {
     "data": {
      "image/png": "[encoded data removed]",
      "text/plain": [
       "<matplotlib.figure.Figure at 0x8d7a650>"
      ]
     },
     "metadata": {},
     "output_type": "display_data"
    }
   ],
   "source": [
    "# Visualize data points of selected transmissions\n",
    "listofFrequenciesDetected = []\n",
    "\n",
    "for df in dflist:\n",
    "    df_not_null = df.dropna()\n",
    "    for idx, f in df_not_null.Frequency.iteritems():\n",
    "        if f not in listofFrequenciesDetected:\n",
    "            listofFrequenciesDetected.append(f)\n",
    "        else:\n",
    "            pass\n",
    "    else:\n",
    "        pass\n",
    "\n",
    "colors = ['r', 'b', 'g', 'y', 'k']\n",
    "labels = ['Receiver1', 'Receiver2', 'Receiver3', 'Receiver4', 'Receiver5']\n",
    "\n",
    "import random\n",
    "selectedFreqs = random.sample(listofFrequenciesDetected, 10)\n",
    "\n",
    "fig, ax = plt.subplots()\n",
    "   \n",
    "for df, c, l in zip(dflist, colors, labels):\n",
    "    df_not_null = df.dropna()\n",
    "    x = []\n",
    "    y = []\n",
    "    for f in selectedFreqs:\n",
    "        X = df_not_null.loc[df['Frequency'] == f]\n",
    "        x.append(X.ActualSignalStrength.mean())\n",
    "        y.append(X.TransmitterDistance.mean())\n",
    "    ax.scatter(x, y, s=50, c=c, alpha=0.6, label=l)\n",
    "    \n",
    "plt.xlabel('Amplitude dbm')\n",
    "plt.ylabel('Distance km')\n",
    "# Plot the legend\n",
    "handles, labels = ax.get_legend_handles_labels()\n",
    "ax.legend(handles, labels)"
   ]
  },
  {
   "cell_type": "code",
   "execution_count": 6,
   "metadata": {
    "collapsed": false
   },
   "outputs": [],
   "source": [
    "# Create new dataframe with 'Frequency', 'MeanAmplitude', 'Lat', 'Lon', 'Distance'\n",
    "def find_mean_and_combine(df):\n",
    "    df_not_null = df.dropna()\n",
    "    new = df_not_null.groupby(['Frequency', 'TransmitterDistance'], as_index=False).mean()\n",
    "    new.rename(columns={'ActualSignalStrength':'MeanAmplitude'}, inplace=True)\n",
    "    return new\n",
    "\n",
    "rf1 = find_mean_and_combine(df1)\n",
    "rf2 = find_mean_and_combine(df2)\n",
    "rf3 = find_mean_and_combine(df3)\n",
    "rf4 = find_mean_and_combine(df4)\n",
    "rf5 = find_mean_and_combine(df5)\n",
    "\n",
    "new_df_list = [rf1, rf2, rf3, rf4, rf5]\n",
    "rf = pd.concat(new_df_list).reset_index()\n",
    "rf = rf.drop('index', 1)"
   ]
  },
  {
   "cell_type": "code",
   "execution_count": 7,
   "metadata": {
    "collapsed": false
   },
   "outputs": [
    {
     "name": "stdout",
     "output_type": "stream",
     "text": [
      "704.307229819\n",
      "[   0.325409     -1.02370806 -104.39737391   -5.69172246]\n"
     ]
    },
    {
     "data": {
      "text/plain": [
       "[('Frequency', 0.32540900182332744),\n",
       " ('MeanAmplitude', -1.0237080598480128),\n",
       " ('Lat', -104.39737390781811),\n",
       " ('Lon', -5.6917224577960521)]"
      ]
     },
     "execution_count": 7,
     "metadata": {},
     "output_type": "execute_result"
    }
   ],
   "source": [
    "# linear regression model\n",
    "\n",
    "# Features are Frequency, ActualSignalStrength, Latitude and Longitude\n",
    "X = rf.drop(['TransmitterDistance'], axis=1)\n",
    "\n",
    "# Labels are TransmitterDistance\n",
    "y = rf.TransmitterDistance\n",
    "\n",
    "# fit\n",
    "linreg = LinearRegression()\n",
    "linreg.fit(X, y)\n",
    "\n",
    "# print the coefficients\n",
    "print linreg.intercept_\n",
    "print linreg.coef_\n",
    "\n",
    "feature_cols = ['Frequency', 'MeanAmplitude', 'Lat', 'Lon']\n",
    "zip(feature_cols, linreg.coef_)"
   ]
  },
  {
   "cell_type": "code",
   "execution_count": 8,
   "metadata": {
    "collapsed": false
   },
   "outputs": [],
   "source": [
    "# define a function that accepts X and y and computes testing RMSE\n",
    "def train_test_rmse(X, y):\n",
    "    X_train, X_test, y_train, y_test = train_test_split(X, y, random_state=2)\n",
    "    linreg = LinearRegression()\n",
    "    linreg.fit(X_train, y_train)\n",
    "    y_pred = linreg.predict(X_test)\n",
    "    return np.sqrt(mean_squared_error(y_test, y_pred))"
   ]
  },
  {
   "cell_type": "code",
   "execution_count": 9,
   "metadata": {
    "collapsed": false
   },
   "outputs": [
    {
     "data": {
      "text/plain": [
       "10.979701775770168"
      ]
     },
     "execution_count": 9,
     "metadata": {},
     "output_type": "execute_result"
    }
   ],
   "source": [
    "train_test_rmse(X,y)"
   ]
  },
  {
   "cell_type": "code",
   "execution_count": 10,
   "metadata": {
    "collapsed": false
   },
   "outputs": [
    {
     "name": "stdout",
     "output_type": "stream",
     "text": [
      "10.9797017758\n",
      "11.2743406999\n",
      "11.3452748641\n",
      "25.6434587276\n"
     ]
    }
   ],
   "source": [
    "# As rmse is very large, i will try with higher order polynomials\n",
    "from sklearn.preprocessing import PolynomialFeatures\n",
    "from sklearn import linear_model\n",
    "\n",
    "for d in range(1,5):\n",
    "    poly = PolynomialFeatures(degree=d)\n",
    "    X_ = poly.fit_transform(X)\n",
    "    print train_test_rmse(X_,y)"
   ]
  },
  {
   "cell_type": "code",
   "execution_count": 12,
   "metadata": {
    "collapsed": false
   },
   "outputs": [],
   "source": [
    "# Test train split\n",
    "X_train, X_test, y_train, y_test = train_test_split(X, y, random_state=2)\n",
    "linreg.fit(X_train, y_train)\n",
    "y_pred = linreg.predict(X_test)"
   ]
  },
  {
   "cell_type": "code",
   "execution_count": 13,
   "metadata": {
    "collapsed": false
   },
   "outputs": [
    {
     "data": {
      "text/plain": [
       "<matplotlib.legend.Legend at 0x925cb30>"
      ]
     },
     "execution_count": 13,
     "metadata": {},
     "output_type": "execute_result"
    },
    {
     "data": {
      "image/png": "[encoded data removed]",
      "text/plain": [
       "<matplotlib.figure.Figure at 0x925c670>"
      ]
     },
     "metadata": {},
     "output_type": "display_data"
    }
   ],
   "source": [
    "# Visualize Predictions\n",
    "plt.figure(1)\n",
    "Actual = plt.scatter(X_test.Frequency[20:30], y_test[20:30], s=50, c='b', alpha=0.6)\n",
    "Predicted = plt.scatter(X_test.Frequency[20:30], y_pred[20:30], s=50, c='r', alpha=0.6)\n",
    "plt.ylabel('Distance From Transmitter KM')\n",
    "plt.xlabel('Frequency MHz')\n",
    "plt.axis([80,110, 0, 50])\n",
    "plt.legend([Actual, Predicted], ['Actual', 'Predicted'], bbox_to_anchor=(1.05, 1), loc=2)"
   ]
  },
  {
   "cell_type": "code",
   "execution_count": 15,
   "metadata": {
    "collapsed": false
   },
   "outputs": [
    {
     "name": "stdout",
     "output_type": "stream",
     "text": [
      "Mean Absolute Error:  8.82437709607\n",
      "Median Absolute Error:  7.85336585531\n",
      "R2 Score:  0.428908668719\n"
     ]
    }
   ],
   "source": [
    "# Evaluation \n",
    "print 'Mean Absolute Error: ', metrics.mean_absolute_error(y_test, y_pred)\n",
    "print 'Median Absolute Error: ', metrics.median_absolute_error(y_test, y_pred)\n",
    "print 'R2 Score: ', metrics.r2_score(y_test, y_pred)"
   ]
  },
  {
   "cell_type": "code",
   "execution_count": 30,
   "metadata": {
    "collapsed": false
   },
   "outputs": [],
   "source": [
    "rf.to_csv(u'C:\\\\Users\\\\user\\\\Desktop\\\\GA\\\\SG_DAT_Project\\\\data\\\\RF.csv')"
   ]
  },
  {
   "cell_type": "code",
   "execution_count": 45,
   "metadata": {
    "collapsed": false
   },
   "outputs": [],
   "source": [
    "# Create new dataframe of unknown transmissions with 'Frequency', 'MeanAmplitude', 'Lat', 'Lon', 'Distance'\n",
    "def find_mean_and_combine_Un(df):\n",
    "    df_null = df[df.isnull().any(axis=1)]\n",
    "    new = df_null.groupby(['Frequency'], as_index=False).mean()\n",
    "    new.rename(columns={'ActualSignalStrength':'MeanAmplitude'}, inplace=True)\n",
    "    return new\n",
    "\n",
    "\n",
    "Urf1 = find_mean_and_combine_Un(df1)\n",
    "Urf2 = find_mean_and_combine_Un(df2)\n",
    "Urf3 = find_mean_and_combine_Un(df3)\n",
    "Urf4 = find_mean_and_combine_Un(df4)\n",
    "Urf5 = find_mean_and_combine_Un(df5)\n",
    "\n",
    "new_U_df_list = [Urf1, Urf2, Urf3, Urf4, Urf5]\n",
    "unknown_rf = pd.concat(new_U_df_list).reset_index()\n",
    "unknown_rf = unknown_rf.drop('index', 1)\n",
    "unknown_rf.to_csv(u'C:\\\\Users\\\\user\\\\Desktop\\\\GA\\\\SG_DAT_Project\\\\data\\\\unknownRF.csv')"
   ]
  },
  {
   "cell_type": "code",
   "execution_count": 41,
   "metadata": {
    "collapsed": true
   },
   "outputs": [],
   "source": []
  }
 ],
 "metadata": {
  "anaconda-cloud": {},
  "kernelspec": {
   "display_name": "Python [Root]",
   "language": "python",
   "name": "Python [Root]"
  },
  "language_info": {
   "codemirror_mode": {
    "name": "ipython",
    "version": 2
   },
   "file_extension": ".py",
   "mimetype": "text/x-python",
   "name": "python",
   "nbconvert_exporter": "python",
   "pygments_lexer": "ipython2",
   "version": "2.7.12"
  }
 },
 "nbformat": 4,
 "nbformat_minor": 0
}
