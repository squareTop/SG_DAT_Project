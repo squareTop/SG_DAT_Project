{
 "cells": [
  {
   "cell_type": "code",
   "execution_count": 6,
   "metadata": {
    "collapsed": false
   },
   "outputs": [],
   "source": [
    "import pandas as pd\n",
    "import numpy as np\n",
    "import math\n",
    "import matplotlib.pyplot as plt\n",
    "\n",
    "%matplotlib inline"
   ]
  },
  {
   "cell_type": "code",
   "execution_count": 7,
   "metadata": {
    "collapsed": false
   },
   "outputs": [
    {
     "data": {
      "text/html": [
       "<div>\n",
       "<table border=\"1\" class=\"dataframe\">\n",
       "  <thead>\n",
       "    <tr style=\"text-align: right;\">\n",
       "      <th></th>\n",
       "      <th>PERIOD</th>\n",
       "      <th>NODE4</th>\n",
       "      <th>LAT4</th>\n",
       "      <th>LON4</th>\n",
       "      <th>NODE1</th>\n",
       "      <th>LAT1</th>\n",
       "      <th>LON1</th>\n",
       "      <th>MA1</th>\n",
       "      <th>DIST1</th>\n",
       "      <th>NODE2</th>\n",
       "      <th>LAT2</th>\n",
       "      <th>LON2</th>\n",
       "      <th>MA2</th>\n",
       "      <th>DIST2</th>\n",
       "      <th>NODE3</th>\n",
       "      <th>LAT3</th>\n",
       "      <th>LON3</th>\n",
       "      <th>MA3</th>\n",
       "      <th>DIST3</th>\n",
       "    </tr>\n",
       "  </thead>\n",
       "  <tbody>\n",
       "    <tr>\n",
       "      <th>0</th>\n",
       "      <td>1</td>\n",
       "      <td>CCK</td>\n",
       "      <td>1.385351</td>\n",
       "      <td>103.745053</td>\n",
       "      <td>STN</td>\n",
       "      <td>1.351944</td>\n",
       "      <td>103.765833</td>\n",
       "      <td>9.351852</td>\n",
       "      <td>4.376</td>\n",
       "      <td>YIS</td>\n",
       "      <td>1.423272</td>\n",
       "      <td>103.844975</td>\n",
       "      <td>-19</td>\n",
       "      <td>11.885</td>\n",
       "      <td>BIS</td>\n",
       "      <td>1.359603</td>\n",
       "      <td>103.843286</td>\n",
       "      <td>-13</td>\n",
       "      <td>11.293</td>\n",
       "    </tr>\n",
       "    <tr>\n",
       "      <th>1</th>\n",
       "      <td>11</td>\n",
       "      <td>CCK</td>\n",
       "      <td>1.390096</td>\n",
       "      <td>103.745582</td>\n",
       "      <td>STN</td>\n",
       "      <td>1.351944</td>\n",
       "      <td>103.765833</td>\n",
       "      <td>3.290909</td>\n",
       "      <td>4.950</td>\n",
       "      <td>YIS</td>\n",
       "      <td>1.425059</td>\n",
       "      <td>103.849078</td>\n",
       "      <td>-21</td>\n",
       "      <td>12.148</td>\n",
       "      <td>BIS</td>\n",
       "      <td>1.364013</td>\n",
       "      <td>103.844911</td>\n",
       "      <td>-14</td>\n",
       "      <td>11.420</td>\n",
       "    </tr>\n",
       "    <tr>\n",
       "      <th>2</th>\n",
       "      <td>21</td>\n",
       "      <td>CCK</td>\n",
       "      <td>1.40005</td>\n",
       "      <td>103.748157</td>\n",
       "      <td>STN</td>\n",
       "      <td>1.351944</td>\n",
       "      <td>103.765833</td>\n",
       "      <td>1.545455</td>\n",
       "      <td>5.720</td>\n",
       "      <td>YIS</td>\n",
       "      <td>1.424709</td>\n",
       "      <td>103.857244</td>\n",
       "      <td>-22</td>\n",
       "      <td>12.436</td>\n",
       "      <td>BIS</td>\n",
       "      <td>1.371274</td>\n",
       "      <td>103.844609</td>\n",
       "      <td>-12</td>\n",
       "      <td>11.193</td>\n",
       "    </tr>\n",
       "    <tr>\n",
       "      <th>3</th>\n",
       "      <td>31</td>\n",
       "      <td>CCK</td>\n",
       "      <td></td>\n",
       "      <td></td>\n",
       "      <td>STN</td>\n",
       "      <td>1.351944</td>\n",
       "      <td>103.765833</td>\n",
       "      <td>0.100000</td>\n",
       "      <td>5.550</td>\n",
       "      <td>YIS</td>\n",
       "      <td>1.424709</td>\n",
       "      <td>103.857244</td>\n",
       "      <td>-25</td>\n",
       "      <td>12.462</td>\n",
       "      <td>BIS</td>\n",
       "      <td>1.371274</td>\n",
       "      <td>103.844609</td>\n",
       "      <td>-13</td>\n",
       "      <td>11.290</td>\n",
       "    </tr>\n",
       "  </tbody>\n",
       "</table>\n",
       "</div>"
      ],
      "text/plain": [
       "   PERIOD NODE4      LAT4        LON4 NODE1      LAT1        LON1       MA1  \\\n",
       "0       1   CCK  1.385351  103.745053   STN  1.351944  103.765833  9.351852   \n",
       "1      11   CCK  1.390096  103.745582   STN  1.351944  103.765833  3.290909   \n",
       "2      21   CCK   1.40005  103.748157   STN  1.351944  103.765833  1.545455   \n",
       "3      31   CCK                         STN  1.351944  103.765833  0.100000   \n",
       "\n",
       "   DIST1 NODE2      LAT2        LON2  MA2   DIST2 NODE3      LAT3        LON3  \\\n",
       "0  4.376   YIS  1.423272  103.844975  -19  11.885   BIS  1.359603  103.843286   \n",
       "1  4.950   YIS  1.425059  103.849078  -21  12.148   BIS  1.364013  103.844911   \n",
       "2  5.720   YIS  1.424709  103.857244  -22  12.436   BIS  1.371274  103.844609   \n",
       "3  5.550   YIS  1.424709  103.857244  -25  12.462   BIS  1.371274  103.844609   \n",
       "\n",
       "   MA3   DIST3  \n",
       "0  -13  11.293  \n",
       "1  -14  11.420  \n",
       "2  -12  11.193  \n",
       "3  -13  11.290  "
      ]
     },
     "execution_count": 7,
     "metadata": {},
     "output_type": "execute_result"
    }
   ],
   "source": [
    "test= pd.read_csv('http://localhost:8888/tree/data/test.csv', header=0, na_filter=False)\n",
    "test.head()"
   ]
  },
  {
   "cell_type": "code",
   "execution_count": 8,
   "metadata": {
    "collapsed": false
   },
   "outputs": [
    {
     "data": {
      "text/plain": [
       "<matplotlib.collections.PathCollection at 0x80a4f10>"
      ]
     },
     "execution_count": 8,
     "metadata": {},
     "output_type": "execute_result"
    },
    {
     "data": {
      "image/png": "[encoded data removed]",
      "text/plain": [
       "<matplotlib.figure.Figure at 0x73866b0>"
      ]
     },
     "metadata": {},
     "output_type": "display_data"
    }
   ],
   "source": [
    "# Manually calculate using trilateration formula\n",
    "X = [1.351944, 1.424709, 1.371274]\n",
    "y = [103.765833, 103.857244, 103.844609]\n",
    "labels = ['STN', 'YIS', 'BIS']\n",
    "\n",
    "plt.scatter(X, y, c=np.random.rand(3), label=labels)"
   ]
  },
  {
   "cell_type": "code",
   "execution_count": 9,
   "metadata": {
    "collapsed": false
   },
   "outputs": [],
   "source": [
    "# function for calculating coordinates of unknown station\n",
    "def compute_coords(a, b, c, R1, R2):\n",
    "    s = 0.5*(a + b + c)\n",
    "    d = math.sqrt(s*(s-a)*(s-b)*(s-c))\n",
    "    Ec = 0.5*(R1[0]+R2[0]) + ((math.pow(a,2) - math.pow(b,2))/(2*math.pow(c,2)))*(R1[0]-R2[0]) - ((2*d)/(math.pow(c,2)))*(R1[1]-R2[1])\n",
    "    Nc = 0.5*(R1[1]+R2[1]) + ((math.pow(a,2) - math.pow(b,2))/(2*math.pow(c,2)))*(R1[1]-R2[1]) + ((2*d)/(math.pow(c,2)))*(R1[0]-R2[0])    \n",
    "    return Ec, Nc\n",
    "                              \n",
    "# for calculating loc of CCK using STN and YIS\n",
    "dist_YIS_CCK = 12.462 # dist between YIS & CCK\n",
    "dist_STN_CCK = 5.550 # dist between STN & CCk\n",
    "dist_STN_YIS = 12.87 # km # dist between STN & YIS\n",
    "                              \n",
    "STN = [1.351944, 103.765833] # Coordinates\n",
    "YIS = [1.424709, 103.857244] # Coordinates\n",
    "\n",
    "CCK_coords = compute_coords(dist_YIS_CCK, dist_STN_CCK, dist_STN_YIS, STN, YIS)"
   ]
  },
  {
   "cell_type": "code",
   "execution_count": 10,
   "metadata": {
    "collapsed": false
   },
   "outputs": [
    {
     "name": "stderr",
     "output_type": "stream",
     "text": [
      "C:\\Users\\user\\Anaconda2\\lib\\site-packages\\ipykernel\\__main__.py:1: SettingWithCopyWarning: \n",
      "A value is trying to be set on a copy of a slice from a DataFrame\n",
      "\n",
      "See the caveats in the documentation: http://pandas.pydata.org/pandas-docs/stable/indexing.html#indexing-view-versus-copy\n",
      "  if __name__ == '__main__':\n",
      "C:\\Users\\user\\Anaconda2\\lib\\site-packages\\ipykernel\\__main__.py:2: SettingWithCopyWarning: \n",
      "A value is trying to be set on a copy of a slice from a DataFrame\n",
      "\n",
      "See the caveats in the documentation: http://pandas.pydata.org/pandas-docs/stable/indexing.html#indexing-view-versus-copy\n",
      "  from ipykernel import kernelapp as app\n"
     ]
    }
   ],
   "source": [
    "test['LAT4'][3] = CCK_coords[0]\n",
    "test['LON4'][3] = CCK_coords[1]"
   ]
  },
  {
   "cell_type": "code",
   "execution_count": 11,
   "metadata": {
    "collapsed": false
   },
   "outputs": [],
   "source": [
    "test.to_csv(u'C:\\\\Users\\\\user\\\\Desktop\\\\GA\\\\SG_DAT_Project\\\\data\\\\found.csv')"
   ]
  },
  {
   "cell_type": "code",
   "execution_count": 12,
   "metadata": {
    "collapsed": true
   },
   "outputs": [],
   "source": [
    "# for calculating loc of CCK using STN and BIS\n",
    "dist_BIS_CCK = 11.290 # dist between BIS & CCK\n",
    "dist_STN_CCK = 5.550 # dist between STN & CCk\n",
    "dist_STN_BIS = 9.02 # dist between STN & BIS\n",
    "                              \n",
    "STN = [1.351944, 103.765833] # Coordinates\n",
    "BIS = [1.371274, 103.844609] # Coordinates"
   ]
  },
  {
   "cell_type": "code",
   "execution_count": 17,
   "metadata": {
    "collapsed": false
   },
   "outputs": [],
   "source": [
    "CCK_coords = compute_coords(dist_BIS_CCK, dist_STN_CCK, dist_STN_BIS, STN, BIS)"
   ]
  },
  {
   "cell_type": "code",
   "execution_count": 18,
   "metadata": {
    "collapsed": false
   },
   "outputs": [
    {
     "name": "stderr",
     "output_type": "stream",
     "text": [
      "C:\\Users\\user\\Anaconda2\\lib\\site-packages\\ipykernel\\__main__.py:1: SettingWithCopyWarning: \n",
      "A value is trying to be set on a copy of a slice from a DataFrame\n",
      "\n",
      "See the caveats in the documentation: http://pandas.pydata.org/pandas-docs/stable/indexing.html#indexing-view-versus-copy\n",
      "  if __name__ == '__main__':\n",
      "C:\\Users\\user\\Anaconda2\\lib\\site-packages\\ipykernel\\__main__.py:2: SettingWithCopyWarning: \n",
      "A value is trying to be set on a copy of a slice from a DataFrame\n",
      "\n",
      "See the caveats in the documentation: http://pandas.pydata.org/pandas-docs/stable/indexing.html#indexing-view-versus-copy\n",
      "  from ipykernel import kernelapp as app\n"
     ]
    }
   ],
   "source": [
    "test['LAT4'][3] = CCK_coords[0]\n",
    "test['LON4'][3] = CCK_coords[1]"
   ]
  },
  {
   "cell_type": "code",
   "execution_count": 19,
   "metadata": {
    "collapsed": true
   },
   "outputs": [],
   "source": [
    "test.to_csv(u'C:\\\\Users\\\\user\\\\Desktop\\\\GA\\\\SG_DAT_Project\\\\data\\\\found_2.csv')"
   ]
  },
  {
   "cell_type": "code",
   "execution_count": 31,
   "metadata": {
    "collapsed": true
   },
   "outputs": [],
   "source": [
    "# for calculating loc of CCK using YIS and BIS\n",
    "dist_BIS_CCK = 11.290 # dist between BIS & CCK\n",
    "dist_YIS_CCK = 12.462 # dist between STN & CCk\n",
    "dist_YIS_BIS = 6.107 # dist between STN & BIS\n",
    "                              \n",
    "YIS = [1.424709, 103.857244] # Coordinates\n",
    "BIS = [1.371274, 103.844609] # Coordinates"
   ]
  },
  {
   "cell_type": "code",
   "execution_count": 32,
   "metadata": {
    "collapsed": true
   },
   "outputs": [],
   "source": [
    "CCK_coords = compute_coords(dist_YIS_CCK, dist_BIS_CCK, dist_YIS_BIS, BIS, YIS)"
   ]
  },
  {
   "cell_type": "code",
   "execution_count": 33,
   "metadata": {
    "collapsed": false
   },
   "outputs": [
    {
     "name": "stderr",
     "output_type": "stream",
     "text": [
      "C:\\Users\\user\\Anaconda2\\lib\\site-packages\\ipykernel\\__main__.py:1: SettingWithCopyWarning: \n",
      "A value is trying to be set on a copy of a slice from a DataFrame\n",
      "\n",
      "See the caveats in the documentation: http://pandas.pydata.org/pandas-docs/stable/indexing.html#indexing-view-versus-copy\n",
      "  if __name__ == '__main__':\n",
      "C:\\Users\\user\\Anaconda2\\lib\\site-packages\\ipykernel\\__main__.py:2: SettingWithCopyWarning: \n",
      "A value is trying to be set on a copy of a slice from a DataFrame\n",
      "\n",
      "See the caveats in the documentation: http://pandas.pydata.org/pandas-docs/stable/indexing.html#indexing-view-versus-copy\n",
      "  from ipykernel import kernelapp as app\n"
     ]
    }
   ],
   "source": [
    "test['LAT4'][3] = CCK_coords[0]\n",
    "test['LON4'][3] = CCK_coords[1]"
   ]
  },
  {
   "cell_type": "code",
   "execution_count": 34,
   "metadata": {
    "collapsed": false
   },
   "outputs": [],
   "source": [
    "test.to_csv(u'C:\\\\Users\\\\user\\\\Desktop\\\\GA\\\\SG_DAT_Project\\\\data\\\\found_3.csv')"
   ]
  },
  {
   "cell_type": "code",
   "execution_count": null,
   "metadata": {
    "collapsed": true
   },
   "outputs": [],
   "source": []
  }
 ],
 "metadata": {
  "kernelspec": {
   "display_name": "Python [Root]",
   "language": "python",
   "name": "Python [Root]"
  },
  "language_info": {
   "codemirror_mode": {
    "name": "ipython",
    "version": 2
   },
   "file_extension": ".py",
   "mimetype": "text/x-python",
   "name": "python",
   "nbconvert_exporter": "python",
   "pygments_lexer": "ipython2",
   "version": "2.7.12"
  }
 },
 "nbformat": 4,
 "nbformat_minor": 0
}
