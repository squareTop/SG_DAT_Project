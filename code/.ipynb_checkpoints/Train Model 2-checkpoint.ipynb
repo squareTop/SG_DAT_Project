{
 "cells": [
  {
   "cell_type": "code",
   "execution_count": 1,
   "metadata": {
    "collapsed": true
   },
   "outputs": [],
   "source": [
    "import math\n",
    "import numpy as np\n",
    "import pandas as pd\n",
    "import numpy as np\n",
    "import matplotlib.pyplot as plt\n",
    "from sklearn.linear_model import LinearRegression\n",
    "from sklearn.model_selection import train_test_split\n",
    "from sklearn.metrics import mean_squared_error\n",
    "from sklearn import metrics\n",
    "\n",
    "# Display plots in the notebook\n",
    "%matplotlib inline\n",
    "\n",
    "# Plotting parameters \n",
    "plt.rcParams['figure.figsize'] = (10, 7)\n",
    "plt.rcParams['font.size'] = 12"
   ]
  },
  {
   "cell_type": "code",
   "execution_count": 2,
   "metadata": {
    "collapsed": false
   },
   "outputs": [],
   "source": [
    "# load files for training\n",
    "fileL1 = 'http://localhost:8888/tree/data/Node1.csv'\n",
    "fileL2 = 'http://localhost:8888/tree/data/Node2.csv'\n",
    "fileL3 = 'http://localhost:8888/tree/data/Node3.csv'\n",
    "fileL4 = 'http://localhost:8888/tree/data/Node4.csv'\n",
    "\n",
    "df1 = pd.read_csv(fileL1, header=0, na_filter=False)\n",
    "df2 = pd.read_csv(fileL2, header=0, na_filter=False)\n",
    "df3 = pd.read_csv(fileL3, header=0, na_filter=False)\n",
    "df4 = pd.read_csv(fileL4, header=0, na_filter=False)  "
   ]
  },
  {
   "cell_type": "code",
   "execution_count": 6,
   "metadata": {
    "collapsed": false
   },
   "outputs": [
    {
     "data": {
      "text/html": [
       "<div>\n",
       "<table border=\"1\" class=\"dataframe\">\n",
       "  <thead>\n",
       "    <tr style=\"text-align: right;\">\n",
       "      <th></th>\n",
       "      <th>PERIOD</th>\n",
       "      <th>NODE1</th>\n",
       "      <th>LAT1</th>\n",
       "      <th>LON1</th>\n",
       "      <th>NODE2</th>\n",
       "      <th>LAT2</th>\n",
       "      <th>LON2</th>\n",
       "      <th>MA2</th>\n",
       "      <th>DIST2</th>\n",
       "      <th>NODE3</th>\n",
       "      <th>LAT3</th>\n",
       "      <th>LON3</th>\n",
       "      <th>MA3</th>\n",
       "      <th>DIST3</th>\n",
       "      <th>NODE4</th>\n",
       "      <th>LAT4</th>\n",
       "      <th>LON4</th>\n",
       "      <th>MA4</th>\n",
       "      <th>DIST4</th>\n",
       "    </tr>\n",
       "  </thead>\n",
       "  <tbody>\n",
       "    <tr>\n",
       "      <th>0</th>\n",
       "      <td>1</td>\n",
       "      <td>STN</td>\n",
       "      <td>1.351944</td>\n",
       "      <td>103.765833</td>\n",
       "      <td>YIS</td>\n",
       "      <td>1.423272</td>\n",
       "      <td>103.844975</td>\n",
       "      <td>-19.75</td>\n",
       "      <td>11.848</td>\n",
       "      <td>BIS</td>\n",
       "      <td>1.359603</td>\n",
       "      <td>103.843286</td>\n",
       "      <td>-1.25</td>\n",
       "      <td>8.619</td>\n",
       "      <td>CCK</td>\n",
       "      <td>1.385351</td>\n",
       "      <td>103.745053</td>\n",
       "      <td>9.351852</td>\n",
       "      <td>4.376</td>\n",
       "    </tr>\n",
       "    <tr>\n",
       "      <th>1</th>\n",
       "      <td>2</td>\n",
       "      <td>STN</td>\n",
       "      <td>1.351944</td>\n",
       "      <td>103.765833</td>\n",
       "      <td>YIS</td>\n",
       "      <td>1.423272</td>\n",
       "      <td>103.844975</td>\n",
       "      <td>-19.75</td>\n",
       "      <td>11.848</td>\n",
       "      <td>BIS</td>\n",
       "      <td>1.359603</td>\n",
       "      <td>103.843286</td>\n",
       "      <td>-1.25</td>\n",
       "      <td>8.619</td>\n",
       "      <td>CCK</td>\n",
       "      <td>1.385351</td>\n",
       "      <td>103.745053</td>\n",
       "      <td>9.351852</td>\n",
       "      <td>4.376</td>\n",
       "    </tr>\n",
       "    <tr>\n",
       "      <th>2</th>\n",
       "      <td>3</td>\n",
       "      <td>STN</td>\n",
       "      <td>1.351944</td>\n",
       "      <td>103.765833</td>\n",
       "      <td>YIS</td>\n",
       "      <td>1.423272</td>\n",
       "      <td>103.844975</td>\n",
       "      <td>-19.75</td>\n",
       "      <td>11.848</td>\n",
       "      <td>BIS</td>\n",
       "      <td>1.359603</td>\n",
       "      <td>103.843286</td>\n",
       "      <td>-1.25</td>\n",
       "      <td>8.619</td>\n",
       "      <td>CCK</td>\n",
       "      <td>1.385351</td>\n",
       "      <td>103.745053</td>\n",
       "      <td>9.351852</td>\n",
       "      <td>4.376</td>\n",
       "    </tr>\n",
       "    <tr>\n",
       "      <th>3</th>\n",
       "      <td>4</td>\n",
       "      <td>STN</td>\n",
       "      <td>1.351944</td>\n",
       "      <td>103.765833</td>\n",
       "      <td>YIS</td>\n",
       "      <td>1.423272</td>\n",
       "      <td>103.844975</td>\n",
       "      <td>-19.75</td>\n",
       "      <td>11.848</td>\n",
       "      <td>BIS</td>\n",
       "      <td>1.359603</td>\n",
       "      <td>103.843286</td>\n",
       "      <td>-1.25</td>\n",
       "      <td>8.619</td>\n",
       "      <td>CCK</td>\n",
       "      <td>1.385351</td>\n",
       "      <td>103.745053</td>\n",
       "      <td>9.351852</td>\n",
       "      <td>4.376</td>\n",
       "    </tr>\n",
       "    <tr>\n",
       "      <th>4</th>\n",
       "      <td>5</td>\n",
       "      <td>STN</td>\n",
       "      <td>1.351944</td>\n",
       "      <td>103.765833</td>\n",
       "      <td>YIS</td>\n",
       "      <td>1.423272</td>\n",
       "      <td>103.844975</td>\n",
       "      <td>-19.75</td>\n",
       "      <td>11.848</td>\n",
       "      <td>BIS</td>\n",
       "      <td>1.359603</td>\n",
       "      <td>103.843286</td>\n",
       "      <td>-1.25</td>\n",
       "      <td>8.619</td>\n",
       "      <td>CCK</td>\n",
       "      <td>1.385351</td>\n",
       "      <td>103.745053</td>\n",
       "      <td>9.351852</td>\n",
       "      <td>4.376</td>\n",
       "    </tr>\n",
       "  </tbody>\n",
       "</table>\n",
       "</div>"
      ],
      "text/plain": [
       "   PERIOD NODE1      LAT1        LON1 NODE2      LAT2        LON2    MA2  \\\n",
       "0       1   STN  1.351944  103.765833   YIS  1.423272  103.844975 -19.75   \n",
       "1       2   STN  1.351944  103.765833   YIS  1.423272  103.844975 -19.75   \n",
       "2       3   STN  1.351944  103.765833   YIS  1.423272  103.844975 -19.75   \n",
       "3       4   STN  1.351944  103.765833   YIS  1.423272  103.844975 -19.75   \n",
       "4       5   STN  1.351944  103.765833   YIS  1.423272  103.844975 -19.75   \n",
       "\n",
       "    DIST2 NODE3      LAT3        LON3   MA3  DIST3 NODE4      LAT4  \\\n",
       "0  11.848   BIS  1.359603  103.843286 -1.25  8.619   CCK  1.385351   \n",
       "1  11.848   BIS  1.359603  103.843286 -1.25  8.619   CCK  1.385351   \n",
       "2  11.848   BIS  1.359603  103.843286 -1.25  8.619   CCK  1.385351   \n",
       "3  11.848   BIS  1.359603  103.843286 -1.25  8.619   CCK  1.385351   \n",
       "4  11.848   BIS  1.359603  103.843286 -1.25  8.619   CCK  1.385351   \n",
       "\n",
       "         LON4       MA4  DIST4  \n",
       "0  103.745053  9.351852  4.376  \n",
       "1  103.745053  9.351852  4.376  \n",
       "2  103.745053  9.351852  4.376  \n",
       "3  103.745053  9.351852  4.376  \n",
       "4  103.745053  9.351852  4.376  "
      ]
     },
     "execution_count": 6,
     "metadata": {},
     "output_type": "execute_result"
    }
   ],
   "source": [
    "dflist = [df1, df2, df3, df4]\n",
    "drop_cols = ['PERIOD', 'NODE1', 'NODE2', 'NODE3', 'NODE4']\n",
    "\n",
    "df1 = df1.drop(drop_cols, axis=1)\n",
    "df2 = df2.drop(drop_cols, axis=1)\n",
    "df3 = df3.drop(drop_cols, axis=1)\n",
    "df4 = df4.drop(drop_cols, axis=1)"
   ]
  },
  {
   "cell_type": "code",
   "execution_count": 7,
   "metadata": {
    "collapsed": true
   },
   "outputs": [],
   "source": [
    "def train_test_rmse(X, y):\n",
    "    X_train, X_test, y_train, y_test = train_test_split(X, y, random_state=2)\n",
    "    linreg = LinearRegression()\n",
    "    linreg.fit(X_train, y_train)\n",
    "    y_pred = linreg.predict(X_test)\n",
    "    return np.sqrt(mean_squared_error(y_test, y_pred))"
   ]
  },
  {
   "cell_type": "code",
   "execution_count": 10,
   "metadata": {
    "collapsed": false
   },
   "outputs": [
    {
     "ename": "ValueError",
     "evalue": "could not convert string to float: CCK",
     "output_type": "error",
     "traceback": [
      "\u001b[1;31m\u001b[0m",
      "\u001b[1;31mValueError\u001b[0mTraceback (most recent call last)",
      "\u001b[1;32m<ipython-input-10-1c380433c699>\u001b[0m in \u001b[0;36m<module>\u001b[1;34m()\u001b[0m\n\u001b[1;32m----> 1\u001b[1;33m \u001b[0mtrain_test_rmse\u001b[0m\u001b[1;33m(\u001b[0m\u001b[0mdf1\u001b[0m\u001b[1;33m.\u001b[0m\u001b[0mdrop\u001b[0m\u001b[1;33m(\u001b[0m\u001b[1;34m'DIST4'\u001b[0m\u001b[1;33m,\u001b[0m \u001b[0maxis\u001b[0m\u001b[1;33m=\u001b[0m\u001b[1;36m1\u001b[0m\u001b[1;33m)\u001b[0m\u001b[1;33m,\u001b[0m \u001b[0mdf1\u001b[0m\u001b[1;33m.\u001b[0m\u001b[0mDIST4\u001b[0m\u001b[1;33m)\u001b[0m\u001b[1;33m\u001b[0m\u001b[0m\n\u001b[0m",
      "\u001b[1;32m<ipython-input-7-abaf324e2418>\u001b[0m in \u001b[0;36mtrain_test_rmse\u001b[1;34m(X, y)\u001b[0m\n\u001b[0;32m      2\u001b[0m     \u001b[0mX_train\u001b[0m\u001b[1;33m,\u001b[0m \u001b[0mX_test\u001b[0m\u001b[1;33m,\u001b[0m \u001b[0my_train\u001b[0m\u001b[1;33m,\u001b[0m \u001b[0my_test\u001b[0m \u001b[1;33m=\u001b[0m \u001b[0mtrain_test_split\u001b[0m\u001b[1;33m(\u001b[0m\u001b[0mX\u001b[0m\u001b[1;33m,\u001b[0m \u001b[0my\u001b[0m\u001b[1;33m,\u001b[0m \u001b[0mrandom_state\u001b[0m\u001b[1;33m=\u001b[0m\u001b[1;36m2\u001b[0m\u001b[1;33m)\u001b[0m\u001b[1;33m\u001b[0m\u001b[0m\n\u001b[0;32m      3\u001b[0m     \u001b[0mlinreg\u001b[0m \u001b[1;33m=\u001b[0m \u001b[0mLinearRegression\u001b[0m\u001b[1;33m(\u001b[0m\u001b[1;33m)\u001b[0m\u001b[1;33m\u001b[0m\u001b[0m\n\u001b[1;32m----> 4\u001b[1;33m     \u001b[0mlinreg\u001b[0m\u001b[1;33m.\u001b[0m\u001b[0mfit\u001b[0m\u001b[1;33m(\u001b[0m\u001b[0mX_train\u001b[0m\u001b[1;33m,\u001b[0m \u001b[0my_train\u001b[0m\u001b[1;33m)\u001b[0m\u001b[1;33m\u001b[0m\u001b[0m\n\u001b[0m\u001b[0;32m      5\u001b[0m     \u001b[0my_pred\u001b[0m \u001b[1;33m=\u001b[0m \u001b[0mlinreg\u001b[0m\u001b[1;33m.\u001b[0m\u001b[0mpredict\u001b[0m\u001b[1;33m(\u001b[0m\u001b[0mX_test\u001b[0m\u001b[1;33m)\u001b[0m\u001b[1;33m\u001b[0m\u001b[0m\n\u001b[0;32m      6\u001b[0m     \u001b[1;32mreturn\u001b[0m \u001b[0mnp\u001b[0m\u001b[1;33m.\u001b[0m\u001b[0msqrt\u001b[0m\u001b[1;33m(\u001b[0m\u001b[0mmean_squared_error\u001b[0m\u001b[1;33m(\u001b[0m\u001b[0my_test\u001b[0m\u001b[1;33m,\u001b[0m \u001b[0my_pred\u001b[0m\u001b[1;33m)\u001b[0m\u001b[1;33m)\u001b[0m\u001b[1;33m\u001b[0m\u001b[0m\n",
      "\u001b[1;32mC:\\Users\\user\\Anaconda2\\lib\\site-packages\\sklearn\\linear_model\\base.pyc\u001b[0m in \u001b[0;36mfit\u001b[1;34m(self, X, y, sample_weight)\u001b[0m\n\u001b[0;32m    510\u001b[0m         \u001b[0mn_jobs_\u001b[0m \u001b[1;33m=\u001b[0m \u001b[0mself\u001b[0m\u001b[1;33m.\u001b[0m\u001b[0mn_jobs\u001b[0m\u001b[1;33m\u001b[0m\u001b[0m\n\u001b[0;32m    511\u001b[0m         X, y = check_X_y(X, y, accept_sparse=['csr', 'csc', 'coo'],\n\u001b[1;32m--> 512\u001b[1;33m                          y_numeric=True, multi_output=True)\n\u001b[0m\u001b[0;32m    513\u001b[0m \u001b[1;33m\u001b[0m\u001b[0m\n\u001b[0;32m    514\u001b[0m         \u001b[1;32mif\u001b[0m \u001b[0msample_weight\u001b[0m \u001b[1;32mis\u001b[0m \u001b[1;32mnot\u001b[0m \u001b[0mNone\u001b[0m \u001b[1;32mand\u001b[0m \u001b[0mnp\u001b[0m\u001b[1;33m.\u001b[0m\u001b[0matleast_1d\u001b[0m\u001b[1;33m(\u001b[0m\u001b[0msample_weight\u001b[0m\u001b[1;33m)\u001b[0m\u001b[1;33m.\u001b[0m\u001b[0mndim\u001b[0m \u001b[1;33m>\u001b[0m \u001b[1;36m1\u001b[0m\u001b[1;33m:\u001b[0m\u001b[1;33m\u001b[0m\u001b[0m\n",
      "\u001b[1;32mC:\\Users\\user\\Anaconda2\\lib\\site-packages\\sklearn\\utils\\validation.pyc\u001b[0m in \u001b[0;36mcheck_X_y\u001b[1;34m(X, y, accept_sparse, dtype, order, copy, force_all_finite, ensure_2d, allow_nd, multi_output, ensure_min_samples, ensure_min_features, y_numeric, warn_on_dtype, estimator)\u001b[0m\n\u001b[0;32m    519\u001b[0m     X = check_array(X, accept_sparse, dtype, order, copy, force_all_finite,\n\u001b[0;32m    520\u001b[0m                     \u001b[0mensure_2d\u001b[0m\u001b[1;33m,\u001b[0m \u001b[0mallow_nd\u001b[0m\u001b[1;33m,\u001b[0m \u001b[0mensure_min_samples\u001b[0m\u001b[1;33m,\u001b[0m\u001b[1;33m\u001b[0m\u001b[0m\n\u001b[1;32m--> 521\u001b[1;33m                     ensure_min_features, warn_on_dtype, estimator)\n\u001b[0m\u001b[0;32m    522\u001b[0m     \u001b[1;32mif\u001b[0m \u001b[0mmulti_output\u001b[0m\u001b[1;33m:\u001b[0m\u001b[1;33m\u001b[0m\u001b[0m\n\u001b[0;32m    523\u001b[0m         y = check_array(y, 'csr', force_all_finite=True, ensure_2d=False,\n",
      "\u001b[1;32mC:\\Users\\user\\Anaconda2\\lib\\site-packages\\sklearn\\utils\\validation.pyc\u001b[0m in \u001b[0;36mcheck_array\u001b[1;34m(array, accept_sparse, dtype, order, copy, force_all_finite, ensure_2d, allow_nd, ensure_min_samples, ensure_min_features, warn_on_dtype, estimator)\u001b[0m\n\u001b[0;32m    400\u001b[0m         \u001b[1;31m# make sure we actually converted to numeric:\u001b[0m\u001b[1;33m\u001b[0m\u001b[1;33m\u001b[0m\u001b[0m\n\u001b[0;32m    401\u001b[0m         \u001b[1;32mif\u001b[0m \u001b[0mdtype_numeric\u001b[0m \u001b[1;32mand\u001b[0m \u001b[0marray\u001b[0m\u001b[1;33m.\u001b[0m\u001b[0mdtype\u001b[0m\u001b[1;33m.\u001b[0m\u001b[0mkind\u001b[0m \u001b[1;33m==\u001b[0m \u001b[1;34m\"O\"\u001b[0m\u001b[1;33m:\u001b[0m\u001b[1;33m\u001b[0m\u001b[0m\n\u001b[1;32m--> 402\u001b[1;33m             \u001b[0marray\u001b[0m \u001b[1;33m=\u001b[0m \u001b[0marray\u001b[0m\u001b[1;33m.\u001b[0m\u001b[0mastype\u001b[0m\u001b[1;33m(\u001b[0m\u001b[0mnp\u001b[0m\u001b[1;33m.\u001b[0m\u001b[0mfloat64\u001b[0m\u001b[1;33m)\u001b[0m\u001b[1;33m\u001b[0m\u001b[0m\n\u001b[0m\u001b[0;32m    403\u001b[0m         \u001b[1;32mif\u001b[0m \u001b[1;32mnot\u001b[0m \u001b[0mallow_nd\u001b[0m \u001b[1;32mand\u001b[0m \u001b[0marray\u001b[0m\u001b[1;33m.\u001b[0m\u001b[0mndim\u001b[0m \u001b[1;33m>=\u001b[0m \u001b[1;36m3\u001b[0m\u001b[1;33m:\u001b[0m\u001b[1;33m\u001b[0m\u001b[0m\n\u001b[0;32m    404\u001b[0m             raise ValueError(\"Found array with dim %d. %s expected <= 2.\"\n",
      "\u001b[1;31mValueError\u001b[0m: could not convert string to float: CCK"
     ]
    }
   ],
   "source": [
    "train_test_rmse(df1.drop('DIST4', axis=1), df1.DIST4)"
   ]
  },
  {
   "cell_type": "code",
   "execution_count": null,
   "metadata": {
    "collapsed": true
   },
   "outputs": [],
   "source": []
  }
 ],
 "metadata": {
  "kernelspec": {
   "display_name": "Python [Root]",
   "language": "python",
   "name": "Python [Root]"
  },
  "language_info": {
   "codemirror_mode": {
    "name": "ipython",
    "version": 2
   },
   "file_extension": ".py",
   "mimetype": "text/x-python",
   "name": "python",
   "nbconvert_exporter": "python",
   "pygments_lexer": "ipython2",
   "version": "2.7.12"
  }
 },
 "nbformat": 4,
 "nbformat_minor": 0
}
