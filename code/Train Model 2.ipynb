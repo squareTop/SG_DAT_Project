{
 "cells": [
  {
   "cell_type": "code",
   "execution_count": 1,
   "metadata": {
    "collapsed": true
   },
   "outputs": [],
   "source": [
    "import math\n",
    "import numpy as np\n",
    "import pandas as pd\n",
    "import numpy as np\n",
    "import matplotlib.pyplot as plt\n",
    "from sklearn.linear_model import LinearRegression\n",
    "from sklearn.model_selection import train_test_split\n",
    "from sklearn.metrics import mean_squared_error\n",
    "from sklearn import metrics\n",
    "\n",
    "# Display plots in the notebook\n",
    "%matplotlib inline\n",
    "\n",
    "# Plotting parameters \n",
    "plt.rcParams['figure.figsize'] = (10, 7)\n",
    "plt.rcParams['font.size'] = 12"
   ]
  },
  {
   "cell_type": "code",
   "execution_count": 10,
   "metadata": {
    "collapsed": false
   },
   "outputs": [],
   "source": [
    "# load files for training\n",
    "fileL1 = 'http://localhost:8888/tree/data/Node1.csv'\n",
    "fileL2 = 'http://localhost:8888/tree/data/Node2.csv'\n",
    "fileL3 = 'http://localhost:8888/tree/data/Node3.csv'\n",
    "fileL4 = 'http://localhost:8888/tree/data/Node4.csv'\n",
    "\n",
    "df1 = pd.read_csv(fileL1, header=0, na_filter=False)\n",
    "df2 = pd.read_csv(fileL2, header=0, na_filter=False)\n",
    "df3 = pd.read_csv(fileL3, header=0, na_filter=False)\n",
    "df4 = pd.read_csv(fileL4, header=0, na_filter=False)  "
   ]
  },
  {
   "cell_type": "code",
   "execution_count": 11,
   "metadata": {
    "collapsed": false
   },
   "outputs": [],
   "source": [
    "dflist = [df1, df2, df3, df4]\n",
    "drop_cols = ['PERIOD', 'NODE1', 'NODE2', 'NODE3', 'NODE4']\n",
    "\n",
    "df1 = df1.drop(drop_cols, axis=1)\n",
    "df2 = df2.drop(drop_cols, axis=1)\n",
    "df3 = df3.drop(drop_cols, axis=1)\n",
    "df4 = df4.drop(drop_cols, axis=1)"
   ]
  },
  {
   "cell_type": "code",
   "execution_count": 12,
   "metadata": {
    "collapsed": true
   },
   "outputs": [],
   "source": [
    "def train_test_rmse(X, y):\n",
    "    X_train, X_test, y_train, y_test = train_test_split(X, y, random_state=2)\n",
    "    linreg = LinearRegression()\n",
    "    linreg.fit(X_train, y_train)\n",
    "    y_pred = linreg.predict(X_test)\n",
    "    return np.sqrt(mean_squared_error(y_test, y_pred))"
   ]
  },
  {
   "cell_type": "code",
   "execution_count": 17,
   "metadata": {
    "collapsed": false
   },
   "outputs": [
    {
     "name": "stdout",
     "output_type": "stream",
     "text": [
      "3.5527136788e-15\n",
      "1.25607396695e-15\n",
      "0.0\n"
     ]
    }
   ],
   "source": [
    "print train_test_rmse(df1.drop('DIST4', axis=1), df1.DIST4)\n",
    "print train_test_rmse(df2.drop('DIST4', axis=1), df2.DIST4)\n",
    "print train_test_rmse(df3.drop('DIST4', axis=1), df3.DIST4)"
   ]
  },
  {
   "cell_type": "code",
   "execution_count": 27,
   "metadata": {
    "collapsed": false
   },
   "outputs": [],
   "source": [
    "# load test sets\n",
    "fileT1 = 'http://localhost:8888/tree/data/Node1_test.csv'\n",
    "fileT2 = 'http://localhost:8888/tree/data/Node2_test.csv'\n",
    "fileT3 = 'http://localhost:8888/tree/data/Node3_test.csv'\n",
    "\n",
    "T1 = pd.read_csv(fileT1, header=0, na_filter=False)\n",
    "T2 = pd.read_csv(fileT2, header=0, na_filter=False)\n",
    "T3 = pd.read_csv(fileT3, header=0, na_filter=False) \n",
    "\n",
    "T1 = T1.drop(drop_cols, axis=1)\n",
    "T2 = T2.drop(drop_cols, axis=1)\n",
    "T3 = T3.drop(drop_cols, axis=1)"
   ]
  },
  {
   "cell_type": "code",
   "execution_count": 28,
   "metadata": {
    "collapsed": false
   },
   "outputs": [
    {
     "data": {
      "text/html": [
       "<div>\n",
       "<table border=\"1\" class=\"dataframe\">\n",
       "  <thead>\n",
       "    <tr style=\"text-align: right;\">\n",
       "      <th></th>\n",
       "      <th>LAT1</th>\n",
       "      <th>LON1</th>\n",
       "      <th>LAT2</th>\n",
       "      <th>LON2</th>\n",
       "      <th>MA2</th>\n",
       "      <th>DIST2</th>\n",
       "      <th>LAT3</th>\n",
       "      <th>LON3</th>\n",
       "      <th>MA3</th>\n",
       "      <th>DIST3</th>\n",
       "      <th>LAT4</th>\n",
       "      <th>LON4</th>\n",
       "      <th>MA4</th>\n",
       "      <th>DIST4</th>\n",
       "    </tr>\n",
       "  </thead>\n",
       "  <tbody>\n",
       "    <tr>\n",
       "      <th>0</th>\n",
       "      <td>1.351944</td>\n",
       "      <td>103.765833</td>\n",
       "      <td>1.423272</td>\n",
       "      <td>103.844975</td>\n",
       "      <td>-19.750000</td>\n",
       "      <td>11.848</td>\n",
       "      <td>1.359603</td>\n",
       "      <td>103.843286</td>\n",
       "      <td>-1.250</td>\n",
       "      <td>8.619</td>\n",
       "      <td>1.385351</td>\n",
       "      <td>103.745053</td>\n",
       "      <td>9.351852</td>\n",
       "      <td>4.376</td>\n",
       "    </tr>\n",
       "    <tr>\n",
       "      <th>1</th>\n",
       "      <td>1.351944</td>\n",
       "      <td>103.765833</td>\n",
       "      <td>1.425059</td>\n",
       "      <td>103.849078</td>\n",
       "      <td>-21.869565</td>\n",
       "      <td>12.190</td>\n",
       "      <td>1.364013</td>\n",
       "      <td>103.844911</td>\n",
       "      <td>-5.625</td>\n",
       "      <td>8.870</td>\n",
       "      <td>1.390096</td>\n",
       "      <td>103.745582</td>\n",
       "      <td>3.290909</td>\n",
       "      <td>4.95</td>\n",
       "    </tr>\n",
       "    <tr>\n",
       "      <th>2</th>\n",
       "      <td>1.351944</td>\n",
       "      <td>103.765833</td>\n",
       "      <td>1.424709</td>\n",
       "      <td>103.857244</td>\n",
       "      <td>-23.136364</td>\n",
       "      <td>12.870</td>\n",
       "      <td>1.371274</td>\n",
       "      <td>103.844609</td>\n",
       "      <td>-7.000</td>\n",
       "      <td>9.020</td>\n",
       "      <td>1.400050</td>\n",
       "      <td>103.748157</td>\n",
       "      <td>1.545455</td>\n",
       "      <td>5.72</td>\n",
       "    </tr>\n",
       "    <tr>\n",
       "      <th>3</th>\n",
       "      <td>1.351944</td>\n",
       "      <td>103.765833</td>\n",
       "      <td>1.424709</td>\n",
       "      <td>103.857244</td>\n",
       "      <td>-23.136364</td>\n",
       "      <td>12.870</td>\n",
       "      <td>1.371274</td>\n",
       "      <td>103.844609</td>\n",
       "      <td>-7.000</td>\n",
       "      <td>9.020</td>\n",
       "      <td>1.400050</td>\n",
       "      <td>103.748157</td>\n",
       "      <td>0.100000</td>\n",
       "      <td></td>\n",
       "    </tr>\n",
       "  </tbody>\n",
       "</table>\n",
       "</div>"
      ],
      "text/plain": [
       "       LAT1        LON1      LAT2        LON2        MA2   DIST2      LAT3  \\\n",
       "0  1.351944  103.765833  1.423272  103.844975 -19.750000  11.848  1.359603   \n",
       "1  1.351944  103.765833  1.425059  103.849078 -21.869565  12.190  1.364013   \n",
       "2  1.351944  103.765833  1.424709  103.857244 -23.136364  12.870  1.371274   \n",
       "3  1.351944  103.765833  1.424709  103.857244 -23.136364  12.870  1.371274   \n",
       "\n",
       "         LON3    MA3  DIST3      LAT4        LON4       MA4  DIST4  \n",
       "0  103.843286 -1.250  8.619  1.385351  103.745053  9.351852  4.376  \n",
       "1  103.844911 -5.625  8.870  1.390096  103.745582  3.290909   4.95  \n",
       "2  103.844609 -7.000  9.020  1.400050  103.748157  1.545455   5.72  \n",
       "3  103.844609 -7.000  9.020  1.400050  103.748157  0.100000         "
      ]
     },
     "execution_count": 28,
     "metadata": {},
     "output_type": "execute_result"
    }
   ],
   "source": [
    "T1"
   ]
  },
  {
   "cell_type": "code",
   "execution_count": 24,
   "metadata": {
    "collapsed": true
   },
   "outputs": [],
   "source": [
    "def dist_predictor(X, y, test):\n",
    "    linreg = LinearRegression()\n",
    "    linreg.fit(X, y)\n",
    "    y_pred = linreg.predict(test)\n",
    "    return y_pred"
   ]
  },
  {
   "cell_type": "code",
   "execution_count": 33,
   "metadata": {
    "collapsed": false
   },
   "outputs": [
    {
     "name": "stdout",
     "output_type": "stream",
     "text": [
      "[ 4.376       4.95        5.72        5.55303393]\n",
      "[ 11.885       12.148       12.436       12.46218968]\n",
      "[ 11.293       11.42        11.193       11.29904996]\n"
     ]
    }
   ],
   "source": [
    "print dist_predictor(df1.drop('DIST4', axis=1), df1.DIST4, T1.drop('DIST4', axis=1))\n",
    "print dist_predictor(df2.drop('DIST4', axis=1), df2.DIST4, T2.drop('DIST4', axis=1))\n",
    "print dist_predictor(df3.drop('DIST4', axis=1), df3.DIST4, T3.drop('DIST4', axis=1))"
   ]
  },
  {
   "cell_type": "code",
   "execution_count": null,
   "metadata": {
    "collapsed": true
   },
   "outputs": [],
   "source": []
  }
 ],
 "metadata": {
  "kernelspec": {
   "display_name": "Python [Root]",
   "language": "python",
   "name": "Python [Root]"
  },
  "language_info": {
   "codemirror_mode": {
    "name": "ipython",
    "version": 2
   },
   "file_extension": ".py",
   "mimetype": "text/x-python",
   "name": "python",
   "nbconvert_exporter": "python",
   "pygments_lexer": "ipython2",
   "version": "2.7.12"
  }
 },
 "nbformat": 4,
 "nbformat_minor": 0
}
