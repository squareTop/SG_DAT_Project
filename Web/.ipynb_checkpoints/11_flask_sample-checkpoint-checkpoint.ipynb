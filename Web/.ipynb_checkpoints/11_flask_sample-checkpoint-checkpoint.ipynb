{
 "cells": [
  {
   "cell_type": "markdown",
   "metadata": {},
   "source": [
    "# Flask #"
   ]
  },
  {
   "cell_type": "markdown",
   "metadata": {},
   "source": [
    "## Background ##\n",
    "\n",
    "### Every web server must have a unique IP address###\n",
    "![title](img/ip.png)\n",
    "#### Special IP addresses ####\n",
    "**Loopback (self reference) **\n",
    "127.0.0.1\n",
    "**Private IP Addresses**\n",
    "10.0.0.0\n",
    "172.16.0.0\n",
    "192.168.0.0\n",
    "\n",
    "### Every web application must have a unique port number ###\n",
    "HTTP is the language of the web using GET and POST and typically runs on port 80.\n",
    "\n",
    "Try visiting www.google.com:80 on your browser, then change the port from 80 to something else and try again. What happened?\n",
    "\n",
    "#### How HTTP works ####\n",
    "![title](img/http.png)\n",
    "- Web browser requests a web page from the web server using GET\n",
    "- Web server responses with the web page with a POST"
   ]
  },
  {
   "cell_type": "markdown",
   "metadata": {},
   "source": [
    "# Let's Code! #\n",
    "\n",
    "1. Install and import flask\n",
    "2. Build a basic hello world web page\n",
    "3. Create an HTML form that can send data to the flask application and return answer in a new webpage"
   ]
  },
  {
   "cell_type": "markdown",
   "metadata": {},
   "source": [
    "## Part 1: Installing and importing flask ##"
   ]
  },
  {
   "cell_type": "code",
   "execution_count": 5,
   "metadata": {
    "collapsed": false
   },
   "outputs": [],
   "source": [
    "# use conda install flask to install\n",
    "from flask import Flask, render_template, request\n",
    "app = Flask(__name__)"
   ]
  },
  {
   "cell_type": "markdown",
   "metadata": {},
   "source": [
    "## Part 2: Basic hello world html page ##"
   ]
  },
  {
   "cell_type": "code",
   "execution_count": 2,
   "metadata": {
    "collapsed": true
   },
   "outputs": [],
   "source": [
    "@app.route(\"/hello\") #basic hello world\n",
    "def hello():\n",
    "    return \"Hello World!\"\n",
    "\n",
    "@app.route(\"/html\") #a full html page\n",
    "def hellohtml():\n",
    "    return \"\"\"\n",
    "    <!DOCTYPE html>\n",
    "<html>\n",
    "<head>\n",
    "<title>Hello World!</title>\n",
    "</head>\n",
    "\n",
    "<body>\n",
    "Welcome to DAT2 Science!\n",
    "</body>\n",
    "\n",
    "</html>\n",
    "\"\"\""
   ]
  },
  {
   "cell_type": "markdown",
   "metadata": {},
   "source": [
    "## Part 3: HTML form to send and receive data ##\n",
    "Now we will reference a simple HTML form to send an output back to our python program which we can use for processing"
   ]
  },
  {
   "cell_type": "code",
   "execution_count": 3,
   "metadata": {
    "collapsed": false
   },
   "outputs": [],
   "source": [
    "#create a default route that supports both GET and POST methods\n",
    "results = []\n",
    "@app.route('/', methods=['GET', 'POST'])\n",
    "def index():\n",
    "    errors = []\n",
    "#     results = []\n",
    "    if request.method == \"POST\":\n",
    "        # get url that the user has entered\n",
    "        try:\n",
    "            operator = request.form['operation']\n",
    "            num1 = request.form['num1']\n",
    "            num2 = request.form['num2']\n",
    "#             print(request.form)\n",
    "#             print(url)\n",
    "            # r = requests.get(url)\n",
    "            # print(r.text)\n",
    "        except:\n",
    "            errors.append(\n",
    "                \"Could not get data from HTML form. Please try again?\"\n",
    "            )\n",
    "            return render_template('index.html', errors=errors)\n",
    "        answer = evaluateop(operator,num1,num2)\n",
    "        if type(answer) is str: #must be an error\n",
    "            errors.append(answer)\n",
    "        else:\n",
    "            results.append([num1,operator,num2,str(answer)])\n",
    "    return render_template('index.html', errors=errors, results=results)\n",
    "\n",
    "\n",
    "def evaluateop(operator,str_num1,str_num2):\n",
    "    try:\n",
    "        num1 = int(str_num1)\n",
    "        num2 = int(str_num2)\n",
    "    except ValueError:\n",
    "        return \"Error! Please enter a valid number\"\n",
    "    \n",
    "    if operator == '+':\n",
    "        return num1+num2\n",
    "    elif operator == '-':\n",
    "        return num1-num2\n",
    "    elif operator == '/':\n",
    "        if num2 == 0:\n",
    "            return 'Error! Div by 0'\n",
    "        else:\n",
    "            return float(num1)/num2\n",
    "    elif operator == '*':\n",
    "        return num1*num2\n",
    "    else:\n",
    "        return 'Error! Please enter a valid operator (+,-,*,/)'"
   ]
  },
  {
   "cell_type": "markdown",
   "metadata": {},
   "source": [
    "## Run cell below to start web server ##"
   ]
  },
  {
   "cell_type": "code",
   "execution_count": 4,
   "metadata": {
    "collapsed": false
   },
   "outputs": [
    {
     "name": "stderr",
     "output_type": "stream",
     "text": [
      "[2017-01-10 09:11:48,295] ERROR in app: Exception on / [GET]\n",
      "Traceback (most recent call last):\n",
      "  File \"C:\\Users\\user\\Anaconda2\\lib\\site-packages\\flask\\app.py\", line 1988, in wsgi_app\n",
      "    response = self.full_dispatch_request()\n",
      "  File \"C:\\Users\\user\\Anaconda2\\lib\\site-packages\\flask\\app.py\", line 1641, in full_dispatch_request\n",
      "    rv = self.handle_user_exception(e)\n",
      "  File \"C:\\Users\\user\\Anaconda2\\lib\\site-packages\\flask\\app.py\", line 1544, in handle_user_exception\n",
      "    reraise(exc_type, exc_value, tb)\n",
      "  File \"C:\\Users\\user\\Anaconda2\\lib\\site-packages\\flask\\app.py\", line 1639, in full_dispatch_request\n",
      "    rv = self.dispatch_request()\n",
      "  File \"C:\\Users\\user\\Anaconda2\\lib\\site-packages\\flask\\app.py\", line 1625, in dispatch_request\n",
      "    return self.view_functions[rule.endpoint](**req.view_args)\n",
      "  File \"<ipython-input-3-770cafff97c3>\", line 27, in index\n",
      "    return render_template('index.html', errors=errors, results=results)\n",
      "  File \"C:\\Users\\user\\Anaconda2\\lib\\site-packages\\flask\\templating.py\", line 133, in render_template\n",
      "    return _render(ctx.app.jinja_env.get_or_select_template(template_name_or_list),\n",
      "  File \"C:\\Users\\user\\Anaconda2\\lib\\site-packages\\jinja2\\environment.py\", line 851, in get_or_select_template\n",
      "    return self.get_template(template_name_or_list, parent, globals)\n",
      "  File \"C:\\Users\\user\\Anaconda2\\lib\\site-packages\\jinja2\\environment.py\", line 812, in get_template\n",
      "    return self._load_template(name, self.make_globals(globals))\n",
      "  File \"C:\\Users\\user\\Anaconda2\\lib\\site-packages\\jinja2\\environment.py\", line 774, in _load_template\n",
      "    cache_key = self.loader.get_source(self, name)[1]\n",
      "  File \"C:\\Users\\user\\Anaconda2\\lib\\site-packages\\flask\\templating.py\", line 57, in get_source\n",
      "    return self._get_source_fast(environment, template)\n",
      "  File \"C:\\Users\\user\\Anaconda2\\lib\\site-packages\\flask\\templating.py\", line 85, in _get_source_fast\n",
      "    raise TemplateNotFound(template)\n",
      "TemplateNotFound: index.html\n"
     ]
    }
   ],
   "source": [
    "if __name__ == \"__main__\":\n",
    "    app.run()"
   ]
  },
  {
   "cell_type": "code",
   "execution_count": null,
   "metadata": {
    "collapsed": true
   },
   "outputs": [],
   "source": []
  }
 ],
 "metadata": {
  "anaconda-cloud": {},
  "kernelspec": {
   "display_name": "Python [Root]",
   "language": "python",
   "name": "Python [Root]"
  },
  "language_info": {
   "codemirror_mode": {
    "name": "ipython",
    "version": 2
   },
   "file_extension": ".py",
   "mimetype": "text/x-python",
   "name": "python",
   "nbconvert_exporter": "python",
   "pygments_lexer": "ipython2",
   "version": "2.7.12"
  }
 },
 "nbformat": 4,
 "nbformat_minor": 0
}
