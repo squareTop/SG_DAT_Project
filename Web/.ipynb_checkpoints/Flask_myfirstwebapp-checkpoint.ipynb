{
 "cells": [
  {
   "cell_type": "code",
   "execution_count": 1,
   "metadata": {
    "collapsed": false
   },
   "outputs": [],
   "source": [
    "from flask import Flask, render_template, request, url_for\n",
    "app = Flask(__name__)"
   ]
  },
  {
   "cell_type": "code",
   "execution_count": 2,
   "metadata": {
    "collapsed": true
   },
   "outputs": [],
   "source": [
    "# @app.route('/hello_world')\n",
    "# def hello_world():\n",
    "#     return 'Hello, World!'\n",
    "\n",
    "# @app.route('/mymap')\n",
    "# def mappy():\n",
    "#     return 'Map Should appear here'\n",
    "\n",
    "# @app.route(\"/hello\") #basic hello world\n",
    "# def hello():\n",
    "#     return \"Hello World!\"\n",
    "\n",
    "# @app.route(\"/html\") #a full html page\n",
    "# def hellohtml():\n",
    "#     return \"\"\"\n",
    "#     <!DOCTYPE html>\n",
    "# <html>\n",
    "# <head>\n",
    "# <title>Hello World!</title>\n",
    "# </head>\n",
    "\n",
    "# <body>\n",
    "# Welcome to DAT2 Science!\n",
    "# </body>\n",
    "\n",
    "# </html>\n",
    "# \"\"\"\n",
    "\n",
    "# @app.route('/projects/')\n",
    "# def projects():\n",
    "#     return 'The project page'\n",
    "\n",
    "# @app.route('/about')\n",
    "# def about():\n",
    "#     return 'The about page'"
   ]
  },
  {
   "cell_type": "code",
   "execution_count": 3,
   "metadata": {
    "collapsed": false
   },
   "outputs": [],
   "source": [
    "#create a default route that supports both GET and POST methods\n",
    "results = []\n",
    "@app.route('/', methods=['GET', 'POST'])\n",
    "def index():\n",
    "    errors = []\n",
    "    results = []\n",
    "    if request.method == \"POST\":\n",
    "        # get url that the user has entered\n",
    "        try:\n",
    "            operator = request.form['operation']\n",
    "            num1 = request.form['num1']\n",
    "            num2 = request.form['num2']\n",
    "            print(request.form)\n",
    "            print(url)\n",
    "            r = requests.get(url)\n",
    "            print(r.text)\n",
    "        except:\n",
    "            errors.append(\n",
    "                \"Could not get data from HTML form. Please try again?\"\n",
    "            )\n",
    "            return render_template('index.html', errors=errors)\n",
    "        answer = evaluateop(operator,num1,num2)\n",
    "        if type(answer) is str: #must be an error\n",
    "            errors.append(answer)\n",
    "        else:\n",
    "            results.append([num1,operator,num2,str(answer)])\n",
    "    return render_template('index.html', errors=errors, results=results)\n",
    "\n",
    "\n",
    "# # def evaluateop(operator,str_num1,str_num2):\n",
    "# #     try:\n",
    "# #         num1 = int(str_num1)\n",
    "# #         num2 = int(str_num2)\n",
    "# #     except ValueError:\n",
    "# #         return \"Error! Please enter a valid number\"\n",
    "    \n",
    "# #     if operator == '+':\n",
    "# #         return num1+num2\n",
    "# #     elif operator == '-':\n",
    "# #         return num1-num2\n",
    "# #     elif operator == '/':\n",
    "# #         if num2 == 0:\n",
    "# #             return 'Error! Div by 0'\n",
    "# #         else:\n",
    "# #             return float(num1)/num2\n",
    "# #     elif operator == '*':\n",
    "# #         return num1*num2\n",
    "# #     else:\n",
    "# #         return 'Error! Please enter a valid operator (+,-,*,/)'"
   ]
  },
  {
   "cell_type": "code",
   "execution_count": 11,
   "metadata": {
    "collapsed": false
   },
   "outputs": [],
   "source": [
    "# @app.route('/login', methods=['GET', 'POST'])\n",
    "# def login():\n",
    "#     if request.method == 'POST':\n",
    "#         do_the_login()\n",
    "#     else:\n",
    "#         show_the_login_form()\n",
    "        \n",
    "# @app.route('/user/<username>')\n",
    "# def profile(username): pass\n",
    "\n",
    "# with app.test_request_context():\n",
    "#     print url_for('index')\n",
    "#     print url_for('login')\n",
    "#     print url_for('login', next='/')\n",
    "#     print url_for('profile', username='John Doe')"
   ]
  },
  {
   "cell_type": "code",
   "execution_count": 2,
   "metadata": {
    "collapsed": false
   },
   "outputs": [],
   "source": [
    "# @app.route('/login', methods=['GET', 'POST'])\n",
    "# def login():\n",
    "#     if request.method == 'POST':\n",
    "#         do_the_login()\n",
    "#     else:\n",
    "#         show_the_login_form()"
   ]
  },
  {
   "cell_type": "code",
   "execution_count": null,
   "metadata": {
    "collapsed": false
   },
   "outputs": [
    {
     "name": "stderr",
     "output_type": "stream",
     "text": [
      "[2017-01-10 12:09:18,477] ERROR in app: Exception on /login [GET]\n",
      "Traceback (most recent call last):\n",
      "  File \"C:\\Users\\user\\Anaconda2\\lib\\site-packages\\flask\\app.py\", line 1988, in wsgi_app\n",
      "    response = self.full_dispatch_request()\n",
      "  File \"C:\\Users\\user\\Anaconda2\\lib\\site-packages\\flask\\app.py\", line 1641, in full_dispatch_request\n",
      "    rv = self.handle_user_exception(e)\n",
      "  File \"C:\\Users\\user\\Anaconda2\\lib\\site-packages\\flask\\app.py\", line 1544, in handle_user_exception\n",
      "    reraise(exc_type, exc_value, tb)\n",
      "  File \"C:\\Users\\user\\Anaconda2\\lib\\site-packages\\flask\\app.py\", line 1639, in full_dispatch_request\n",
      "    rv = self.dispatch_request()\n",
      "  File \"C:\\Users\\user\\Anaconda2\\lib\\site-packages\\flask\\app.py\", line 1625, in dispatch_request\n",
      "    return self.view_functions[rule.endpoint](**req.view_args)\n",
      "  File \"<ipython-input-2-5d6f03f6a181>\", line 6, in login\n",
      "    show_the_login_form()\n",
      "NameError: global name 'show_the_login_form' is not defined\n"
     ]
    }
   ],
   "source": [
    "if __name__ == \"__main__\": \n",
    "    app.run()\n",
    "\n",
    "# http://127.0.0.1:5000/"
   ]
  },
  {
   "cell_type": "code",
   "execution_count": null,
   "metadata": {
    "collapsed": true
   },
   "outputs": [],
   "source": []
  }
 ],
 "metadata": {
  "anaconda-cloud": {},
  "kernelspec": {
   "display_name": "Python [Root]",
   "language": "python",
   "name": "Python [Root]"
  },
  "language_info": {
   "codemirror_mode": {
    "name": "ipython",
    "version": 2
   },
   "file_extension": ".py",
   "mimetype": "text/x-python",
   "name": "python",
   "nbconvert_exporter": "python",
   "pygments_lexer": "ipython2",
   "version": "2.7.12"
  }
 },
 "nbformat": 4,
 "nbformat_minor": 0
}
